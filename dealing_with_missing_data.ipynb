{
 "cells": [
  {
   "cell_type": "code",
   "execution_count": null,
   "metadata": {},
   "outputs": [],
   "source": [
    "import pandas as pd\n",
    "import numpy as np\n",
    "import matplotlib.pyplot as plt\n",
    "%matplotlib inline\n",
    "\n",
    "#!pip install missingno\n",
    "import missingno as msno\n",
    "\n",
    "#!pip install plotly\n",
    "#!pip install -U kaleido\n",
    "import plotly.express as px\n",
    "pd.options.plotting.backend = \"plotly\""
   ]
  },
  {
   "cell_type": "code",
   "execution_count": null,
   "metadata": {},
   "outputs": [],
   "source": [
    "df = pd.read_csv('datasets/theses_v2.csv', encoding='latin-1', low_memory=False)"
   ]
  },
  {
   "cell_type": "markdown",
   "metadata": {},
   "source": [
    "# Missing Data"
   ]
  },
  {
   "cell_type": "code",
   "execution_count": null,
   "metadata": {},
   "outputs": [],
   "source": [
    "msno.matrix(df)\n",
    "plt.savefig(\"plots/missing_plot.png\")"
   ]
  },
  {
   "cell_type": "markdown",
   "metadata": {},
   "source": [
    "Create number of pages column"
   ]
  },
  {
   "cell_type": "code",
   "execution_count": null,
   "metadata": {},
   "outputs": [],
   "source": [
    "from scipy.stats import bernoulli as bn\n",
    "\n",
    "mu, sigma = 200, 50\n",
    "pages = sigma * np.random.randn(1, df.shape[0]) + mu\n",
    "flag = bn.rvs(p = 0.8, size = (1, df.shape[0]))\n",
    "pages[flag == 0] = np.nan\n",
    "\n",
    "df['nb_pages'] = pages.ravel()"
   ]
  },
  {
   "cell_type": "markdown",
   "metadata": {},
   "source": [
    "Dealing with missing data using imputation technique"
   ]
  },
  {
   "cell_type": "code",
   "execution_count": null,
   "metadata": {},
   "outputs": [],
   "source": [
    "df.dropna(subset=['Date de soutenance'], inplace=True)\n",
    "df['Date de soutenance'] = pd.DatetimeIndex(df['Date de soutenance'])\n",
    "years = df.groupby('Year').count().reset_index().reindex(['Year', 'Titre'], axis=1).set_index('Year')"
   ]
  },
  {
   "cell_type": "markdown",
   "metadata": {},
   "source": [
    "# New Year's Day"
   ]
  },
  {
   "cell_type": "code",
   "execution_count": null,
   "metadata": {},
   "outputs": [],
   "source": [
    "df_0101 = df[df['Date de soutenance'].apply(lambda x: np.logical_and(x.day == 1, x.month == 1))]\n",
    "df_0101['Year'] = df_0101['Date de soutenance'].apply(lambda x: x.year)\n",
    "df_0101 = df_0101.groupby('Year').count().reset_index().reindex(['Year', 'Titre'], axis=1)\n",
    "df_0101.rename(columns={'Titre' : 'nb_Thesis'}, inplace=True)\n",
    "df_0101['nb_Thesis_byyear'] = df_0101['Year'].apply(lambda x: years.loc[x])\n",
    "df_0101['Percentage'] = df_0101['nb_Thesis'] / df_0101['nb_Thesis_byyear'] * 100\n",
    "\n",
    "fig = df_0101.plot(x='Year', y='Percentage', title='Percentage of thesis defended on New Year\\'s Day')\n",
    "\n"
   ]
  },
  {
   "cell_type": "code",
   "execution_count": null,
   "metadata": {},
   "outputs": [],
   "source": [
    "df = df[df['Date de soutenance'].apply(lambda x: np.logical_and(x.year > 2010, np.logical_or(x.day != 1, x.month != 1)))]\n",
    "df['Month'] = df['Date de soutenance'].apply(lambda x: x.month)\n",
    "df['Year'] = df['Date de soutenance'].apply(lambda x: x.year)"
   ]
  },
  {
   "cell_type": "code",
   "execution_count": null,
   "metadata": {},
   "outputs": [],
   "source": [
    "df_months = df.groupby(['Year', 'Month']).count().reset_index().reindex(['Year', 'Month', 'Titre'], axis=1)\n",
    "df_months.rename(columns={'Titre' : 'nb_Thesis'}, inplace=True)\n",
    "df_months['nb_Thesis_byyear'] = df_months['Year'].apply(lambda x: years.loc[x])\n",
    "df_months['Percentage'] = df_months['nb_Thesis'] / df_months['nb_Thesis_byyear'] * 100\n",
    "df_months['Time'] = pd.to_datetime(df_months[['Year', 'Month']].assign(day=1))"
   ]
  },
  {
   "cell_type": "code",
   "execution_count": null,
   "metadata": {},
   "outputs": [],
   "source": [
    "fig = df_months.plot(x='Time', y='Percentage', title='Percentage of thesis defended by month')\n",
    "fig.write_image(\"plots/thesis_by_month.png\")\n",
    "fig"
   ]
  },
  {
   "cell_type": "code",
   "execution_count": null,
   "metadata": {},
   "outputs": [],
   "source": [
    "fig = df_months.groupby('Month').mean().reset_index().plot.bar(x='Month', y='Percentage', title='Percentage of thesis defended during the year')\n",
    "fig.write_image(\"plots/percentage_thesis_during_year.png\")\n",
    "fig"
   ]
  },
  {
   "cell_type": "markdown",
   "metadata": {},
   "source": [
    "# Languages"
   ]
  },
  {
   "cell_type": "code",
   "execution_count": null,
   "metadata": {},
   "outputs": [],
   "source": []
  },
  {
   "cell_type": "markdown",
   "metadata": {},
   "source": [
    "Create gender column using gender-guesser library"
   ]
  },
  {
   "cell_type": "code",
   "execution_count": null,
   "metadata": {},
   "outputs": [],
   "source": [
    "#!pip install gender-guesser\n",
    "import gender_guesser.detector as gender\n",
    "import re\n",
    "\n",
    "df[['first_name','last_name']] = df['Auteur'].apply(lambda s: re.sub('\\([^\\)]+\\)', '', s).rstrip()).str.split(' ', 1, expand=True)\n",
    "detector = gender.Detector(case_sensitive=False)\n",
    "df['Gender'] = df['first_name'].apply(lambda s: detector.get_gender(s))\n",
    "rename_dict = {'mostly_female': 'Female', 'mostly_male': 'Male', 'male' : 'Male', 'female' : 'Female'}\n",
    "df['Gender'].replace(rename_dict, inplace=True)\n",
    "df.drop(df[np.logical_or(df['Gender'] == 'unknown', df['Gender'] == 'andy')].index, inplace=True)"
   ]
  },
  {
   "cell_type": "code",
   "execution_count": null,
   "metadata": {},
   "outputs": [],
   "source": [
    "df_gender = df.groupby('Gender').count().reset_index().rename(columns={'Auteur' : 'nb_Thesis'})\n",
    "fig = px.pie(df_gender, values='nb_Thesis', names='Gender')\n",
    "fig.write_image(\"plots/gender_pie.png\")\n",
    "fig"
   ]
  }
 ],
 "metadata": {
  "interpreter": {
   "hash": "4bd624a0593993fe43ac4046b27b898fb2ef75c21c08f81e89e64ea0f51df676"
  },
  "kernelspec": {
   "display_name": "Python 3.9.7 64-bit ('tensorflow': conda)",
   "name": "python3"
  },
  "language_info": {
   "codemirror_mode": {
    "name": "ipython",
    "version": 3
   },
   "file_extension": ".py",
   "mimetype": "text/x-python",
   "name": "python",
   "nbconvert_exporter": "python",
   "pygments_lexer": "ipython3",
   "version": "3.9.7"
  },
  "orig_nbformat": 4
 },
 "nbformat": 4,
 "nbformat_minor": 2
}
